{
 "cells": [
  {
   "cell_type": "markdown",
   "metadata": {
    "id": "inzYCIaib3c3"
   },
   "source": [
    "<h1>1. Naive Bayes </h1>"
   ]
  },
  {
   "cell_type": "code",
   "execution_count": 1,
   "metadata": {},
   "outputs": [],
   "source": [
    "%matplotlib inline\n",
    "import warnings\n",
    "warnings.filterwarnings(\"ignore\")\n",
    "\n",
    "import pandas as pd\n",
    "import numpy as np\n",
    "import math as m\n",
    "import matplotlib.pyplot as plt\n",
    "import seaborn as sns\n",
    "import nltk\n",
    "import re\n",
    "\n",
    "from sklearn.feature_extraction.text import TfidfVectorizer\n",
    "from sklearn.feature_selection import SelectKBest, chi2\n",
    "from sklearn.feature_extraction.text import CountVectorizer\n",
    "from sklearn.preprocessing import Normalizer\n",
    "from sklearn.metrics import confusion_matrix\n",
    "from sklearn.model_selection import train_test_split\n",
    "from sklearn import metrics\n",
    "from sklearn.metrics import roc_curve, auc\n",
    "from tqdm import tqdm"
   ]
  },
  {
   "cell_type": "markdown",
   "metadata": {
    "id": "FYqCIxzFb3c5"
   },
   "source": [
    "## 1.1 Loading Data"
   ]
  },
  {
   "cell_type": "code",
   "execution_count": 2,
   "metadata": {
    "id": "dA1jknyqb3c_"
   },
   "outputs": [],
   "source": [
    "#make sure you are loading atleast 50k datapoints\n",
    "#you can work with features of preprocessed_data.csv for the assignment.\n",
    "# If you want to add more features, you can add. (This is purely optional, not mandatory)\n",
    "\n",
    "import pandas\n",
    "data = pandas.read_csv('preprocessed_data.csv')"
   ]
  },
  {
   "cell_type": "code",
   "execution_count": 3,
   "metadata": {},
   "outputs": [
    {
     "data": {
      "text/plain": [
       "(109248, 9)"
      ]
     },
     "execution_count": 3,
     "metadata": {},
     "output_type": "execute_result"
    }
   ],
   "source": [
    "## Gives us the shape of the data\n",
    "data.shape     \n"
   ]
  },
  {
   "cell_type": "code",
   "execution_count": 4,
   "metadata": {},
   "outputs": [
    {
     "name": "stdout",
     "output_type": "stream",
     "text": [
      "Number of projects that got approval :  (92706, 9)\n",
      "Numer of projects that didn't get approval :  (16542, 9)\n"
     ]
    }
   ],
   "source": [
    "# Creating the approved and rejected data frames\n",
    "\n",
    "project_approved = data[data['project_is_approved'] == 1]\n",
    "project_reject = data[data['project_is_approved'] == 0]\n",
    "\n",
    "print('Number of projects that got approval : ', project_approved.shape)\n",
    "print(\"Numer of projects that didn't get approval : \", project_reject.shape)"
   ]
  },
  {
   "cell_type": "code",
   "execution_count": 5,
   "metadata": {},
   "outputs": [],
   "source": [
    "# Sampling 85000 points for approving (+ve) and 15000 points for not approving (-ve) points\n",
    "\n",
    "# Reference: https://pandas.pydata.org/pandas-docs/stable/reference/api/pandas.DataFrame.sample.html\n",
    "\n",
    "project_approved = project_approved[project_approved['project_is_approved'] == 1].sample(n = 85000, random_state=1)\n",
    "project_reject = project_reject[project_reject['project_is_approved'] == 0].sample(n = 15000, random_state=1)\n",
    "\n",
    "# Reference: https://pandas.pydata.org/pandas-docs/stable/user_guide/merging.html\n",
    "# Concatinating the two data frames\n",
    "\n",
    "# Reference: https://stackoverflow.com/questions/51835369/combine-two-dataframes-one-row-from-each-one-at-a-time-python-pandas\n",
    "data = pd.concat([project_approved, project_reject]).sort_index(kind='merge')"
   ]
  },
  {
   "cell_type": "code",
   "execution_count": 6,
   "metadata": {},
   "outputs": [
    {
     "data": {
      "text/plain": [
       "(100000, 9)"
      ]
     },
     "execution_count": 6,
     "metadata": {},
     "output_type": "execute_result"
    }
   ],
   "source": [
    "data.shape"
   ]
  },
  {
   "cell_type": "code",
   "execution_count": 7,
   "metadata": {},
   "outputs": [
    {
     "data": {
      "text/html": [
       "<div>\n",
       "<style scoped>\n",
       "    .dataframe tbody tr th:only-of-type {\n",
       "        vertical-align: middle;\n",
       "    }\n",
       "\n",
       "    .dataframe tbody tr th {\n",
       "        vertical-align: top;\n",
       "    }\n",
       "\n",
       "    .dataframe thead th {\n",
       "        text-align: right;\n",
       "    }\n",
       "</style>\n",
       "<table border=\"1\" class=\"dataframe\">\n",
       "  <thead>\n",
       "    <tr style=\"text-align: right;\">\n",
       "      <th></th>\n",
       "      <th>school_state</th>\n",
       "      <th>teacher_prefix</th>\n",
       "      <th>project_grade_category</th>\n",
       "      <th>teacher_number_of_previously_posted_projects</th>\n",
       "      <th>project_is_approved</th>\n",
       "      <th>clean_categories</th>\n",
       "      <th>clean_subcategories</th>\n",
       "      <th>essay</th>\n",
       "      <th>price</th>\n",
       "    </tr>\n",
       "  </thead>\n",
       "  <tbody>\n",
       "    <tr>\n",
       "      <th>0</th>\n",
       "      <td>ca</td>\n",
       "      <td>mrs</td>\n",
       "      <td>grades_prek_2</td>\n",
       "      <td>53</td>\n",
       "      <td>1</td>\n",
       "      <td>math_science</td>\n",
       "      <td>appliedsciences health_lifescience</td>\n",
       "      <td>i fortunate enough use fairy tale stem kits cl...</td>\n",
       "      <td>725.05</td>\n",
       "    </tr>\n",
       "    <tr>\n",
       "      <th>1</th>\n",
       "      <td>ut</td>\n",
       "      <td>ms</td>\n",
       "      <td>grades_3_5</td>\n",
       "      <td>4</td>\n",
       "      <td>1</td>\n",
       "      <td>specialneeds</td>\n",
       "      <td>specialneeds</td>\n",
       "      <td>imagine 8 9 years old you third grade classroo...</td>\n",
       "      <td>213.03</td>\n",
       "    </tr>\n",
       "    <tr>\n",
       "      <th>2</th>\n",
       "      <td>ca</td>\n",
       "      <td>mrs</td>\n",
       "      <td>grades_prek_2</td>\n",
       "      <td>10</td>\n",
       "      <td>1</td>\n",
       "      <td>literacy_language</td>\n",
       "      <td>literacy</td>\n",
       "      <td>having class 24 students comes diverse learner...</td>\n",
       "      <td>329.00</td>\n",
       "    </tr>\n",
       "    <tr>\n",
       "      <th>3</th>\n",
       "      <td>ga</td>\n",
       "      <td>mrs</td>\n",
       "      <td>grades_prek_2</td>\n",
       "      <td>2</td>\n",
       "      <td>1</td>\n",
       "      <td>appliedlearning</td>\n",
       "      <td>earlydevelopment</td>\n",
       "      <td>i recently read article giving students choice...</td>\n",
       "      <td>481.04</td>\n",
       "    </tr>\n",
       "    <tr>\n",
       "      <th>4</th>\n",
       "      <td>wa</td>\n",
       "      <td>mrs</td>\n",
       "      <td>grades_3_5</td>\n",
       "      <td>2</td>\n",
       "      <td>1</td>\n",
       "      <td>literacy_language</td>\n",
       "      <td>literacy</td>\n",
       "      <td>my students crave challenge eat obstacles brea...</td>\n",
       "      <td>17.74</td>\n",
       "    </tr>\n",
       "  </tbody>\n",
       "</table>\n",
       "</div>"
      ],
      "text/plain": [
       "  school_state teacher_prefix project_grade_category  \\\n",
       "0           ca            mrs          grades_prek_2   \n",
       "1           ut             ms             grades_3_5   \n",
       "2           ca            mrs          grades_prek_2   \n",
       "3           ga            mrs          grades_prek_2   \n",
       "4           wa            mrs             grades_3_5   \n",
       "\n",
       "   teacher_number_of_previously_posted_projects  project_is_approved  \\\n",
       "0                                            53                    1   \n",
       "1                                             4                    1   \n",
       "2                                            10                    1   \n",
       "3                                             2                    1   \n",
       "4                                             2                    1   \n",
       "\n",
       "    clean_categories                 clean_subcategories  \\\n",
       "0       math_science  appliedsciences health_lifescience   \n",
       "1       specialneeds                        specialneeds   \n",
       "2  literacy_language                            literacy   \n",
       "3    appliedlearning                    earlydevelopment   \n",
       "4  literacy_language                            literacy   \n",
       "\n",
       "                                               essay   price  \n",
       "0  i fortunate enough use fairy tale stem kits cl...  725.05  \n",
       "1  imagine 8 9 years old you third grade classroo...  213.03  \n",
       "2  having class 24 students comes diverse learner...  329.00  \n",
       "3  i recently read article giving students choice...  481.04  \n",
       "4  my students crave challenge eat obstacles brea...   17.74  "
      ]
     },
     "execution_count": 7,
     "metadata": {},
     "output_type": "execute_result"
    }
   ],
   "source": [
    "data.head()"
   ]
  },
  {
   "cell_type": "code",
   "execution_count": 8,
   "metadata": {},
   "outputs": [],
   "source": [
    "## Here we are dividing our data into two parts 1. Where our project is approved 2. Where our project is not approved\n",
    "y = data['project_is_approved'].values\n",
    "x = data.drop(['project_is_approved'], axis=1)"
   ]
  },
  {
   "cell_type": "markdown",
   "metadata": {
    "id": "WtVV13Fyb3dH"
   },
   "source": [
    "<h2>1.2 Splitting data into Train and cross validation(or test): Stratified Sampling</h2>"
   ]
  },
  {
   "cell_type": "code",
   "execution_count": 9,
   "metadata": {},
   "outputs": [],
   "source": [
    "# write your code in following steps for task 1\n",
    "# 1. Split your data.\n",
    "# 2. Perform Bag of Words Vectorization of text data.\n",
    "# 3. Perform tfidf vectorization of text data.\n",
    "# 4. perform one-hot encoding of categorical features.\n",
    "# 5. perform normalization of numerical features\n",
    "# 6. For set 1 stack up all the features using hstack()\n",
    "# 7. For set 2 stack up all the features using hstack()\n",
    "# 8. Perform hyperparameter tuning and represent the training and cross-validation AUC scores for different 'alpha' values, using a 2D line plot.\n",
    "# 9. Find the best hyperparameter 'alpha' and fit the model. Plot ROC-AUC curve(by obtaining the probabilities using 'predict proba' method)\n",
    "# 10. Plot confusion matrix based on the best threshold value\n",
    "# 11. Either for the model in set 1 or in set 2, print the top 20 features(you have to print the names, not the indexes) associated with the positive and negative classes each.\n",
    "# 12. Summarize your observations and compare both the models(ie., from set 1 and set 2) in terms of optimal hyperparameter value, train AUC and test AUC scores. \n",
    "# 13. You can use Prettytable or any other tabular format for comparison.\n",
    "\n",
    "\n",
    "# please write all the code with proper documentation, and proper titles for each subsection\n",
    "# go through documentations and blogs before you start coding\n",
    "# first figure out what to do, and then think about how to do.\n",
    "# reading and understanding error messages will be very much helpfull in debugging your code\n",
    "# when you plot any graph make sure you use \n",
    "    # a. Title, that describes your plot, this will be very helpful to the reader\n",
    "    # b. Legends if needed\n",
    "    # c. X-axis label\n",
    "    # d. Y-axis label\n",
    "    "
   ]
  },
  {
   "cell_type": "code",
   "execution_count": 10,
   "metadata": {
    "id": "i-PyprDNb3dI"
   },
   "outputs": [],
   "source": [
    "# Split the dataset \n",
    "# 1) If you want to apply simple cross-validation, split the dataset into 3 parts (ie., train, CV and test sets)\n",
    "# 2) If you want to apply K-fold CV (or) GridSearch Cross Validation (or) Randomized Search Cross Validation, just split the dataset into 2 parts (ie., train and test sets)\n",
    "\n",
    "## Use train test split to stratifically divide the data into two datasets - train , test\n",
    "x_train, x_test, y_train, y_test = train_test_split(x, y, test_size=0.33, stratify=y,random_state=42) # as we are using grid search we dont have to use cross validation set"
   ]
  },
  {
   "cell_type": "code",
   "execution_count": 11,
   "metadata": {},
   "outputs": [
    {
     "name": "stdout",
     "output_type": "stream",
     "text": [
      "(67000, 8)\n",
      "(33000, 8)\n",
      "(67000,)\n",
      "(33000,)\n"
     ]
    }
   ],
   "source": [
    "print(x_train.shape)\n",
    "print(x_test.shape)\n",
    "print(y_train.shape)\n",
    "print(y_test.shape)\n"
   ]
  },
  {
   "cell_type": "markdown",
   "metadata": {
    "id": "EnZwVNULb3dO"
   },
   "source": [
    "<h2>1.3 Make Data Model Ready: encoding essay, and project_title</h2>"
   ]
  },
  {
   "cell_type": "code",
   "execution_count": 12,
   "metadata": {},
   "outputs": [],
   "source": [
    "# Apply Bag of Words (BOW) vectorization on 'Preprocessed_Essay' \n",
    "# Apply Bag of Words (BOW) vectorization on 'Preprocessed_Title' (Optional)\n"
   ]
  },
  {
   "cell_type": "code",
   "execution_count": 13,
   "metadata": {},
   "outputs": [
    {
     "name": "stdout",
     "output_type": "stream",
     "text": [
      "Shape of matrix after one hot encodig  (67000, 13793) (67000,)\n",
      "Shape of matrix after one hot encodig  (33000, 13793) (33000,)\n"
     ]
    }
   ],
   "source": [
    "# Apply Bag of Words (BOW) vectorization on 'Preprocessed_Essay'\n",
    "# https://scikit-learn.org/stable/modules/generated/sklearn.feature_extraction.text.CountVectorizer.html\n",
    "\n",
    "## We will be doing BOW vectorization in two steps :\n",
    "## 1. We will fit the data \n",
    "## 2. We will transform the data\n",
    "\n",
    "## 1. Fitting the data : For fitting the data we will use count vectorizer which we have already imported\n",
    "vectorizer_eassy_bow = CountVectorizer(min_df = 10)\n",
    "vectorizer_eassy_bow.fit(x_train['essay'].values)\n",
    "\n",
    "## 2. Transforming the data to its vectors form \n",
    "x_train_bow = vectorizer_eassy_bow.transform(x_train['essay'].values)\n",
    "x_test_bow = vectorizer_eassy_bow.transform(x_test['essay'].values)\n",
    "\n",
    "print(\"Shape of matrix after one hot encodig \",x_train_bow.shape , y_train.shape)\n",
    "print(\"Shape of matrix after one hot encodig \",x_test_bow.shape , y_test.shape)"
   ]
  },
  {
   "cell_type": "code",
   "execution_count": 14,
   "metadata": {},
   "outputs": [],
   "source": [
    "# Apply TF-IDF vectorization on 'Preprocessed_Essay' \n",
    "# Apply TF-IDF vectorization on 'Preprocessed_Title' (Optional)\n"
   ]
  },
  {
   "cell_type": "code",
   "execution_count": 15,
   "metadata": {},
   "outputs": [
    {
     "name": "stdout",
     "output_type": "stream",
     "text": [
      "Shape of matrix after one hot encodig  (67000, 13793) (67000,)\n",
      "Shape of matrix after one hot encodig  (33000, 13793) (33000,)\n"
     ]
    }
   ],
   "source": [
    "# Apply TFIDF vectorization on 'Preprocessed_Essay'\n",
    "# https://scikit-learn.org/stable/modules/generated/sklearn.feature_extraction.text.CountVectorizer.html\n",
    "\n",
    "## We will be doing TFIDF vectorization in two steps :\n",
    "## 1. We will fit the data \n",
    "## 2. We will transform the data\n",
    "\n",
    "## 1. Fitting the data : For fitting the data we will use count vectorizer which we have already imported\n",
    "vectorizer_eassy_tfidf = TfidfVectorizer(min_df = 10)\n",
    "vectorizer_eassy_tfidf.fit(x_train['essay'].values)\n",
    "\n",
    "## 2. Transforming the data to its vectors form \n",
    "x_train_tfidf = vectorizer_eassy_tfidf.transform(x_train['essay'].values)\n",
    "x_test_tfidf= vectorizer_eassy_tfidf.transform(x_test['essay'].values)\n",
    "\n",
    "print(\"Shape of matrix after one hot encodig \",x_train_tfidf.shape , y_train.shape)\n",
    "print(\"Shape of matrix after one hot encodig \",x_test_tfidf.shape , y_test.shape)"
   ]
  },
  {
   "cell_type": "markdown",
   "metadata": {
    "id": "bGy86kgHb3dX"
   },
   "source": [
    "<h2>1.4 Make Data Model Ready: encoding numerical, categorical features</h2>"
   ]
  },
  {
   "cell_type": "code",
   "execution_count": 16,
   "metadata": {
    "id": "EfXkofX1b3da"
   },
   "outputs": [],
   "source": [
    "# Apply One-Hot Encoding on the categorical features either using OneHotEncoder() (or) CountVectorizer(binary=True)\n",
    "# Apply Normalization on the numerical features using Normalizer().\n"
   ]
  },
  {
   "cell_type": "markdown",
   "metadata": {},
   "source": [
    "### 1.4.1 - Performing Vectorization on Categrorica Data "
   ]
  },
  {
   "cell_type": "markdown",
   "metadata": {},
   "source": [
    "1.4.1.1 - School_State"
   ]
  },
  {
   "cell_type": "code",
   "execution_count": 17,
   "metadata": {},
   "outputs": [
    {
     "name": "stdout",
     "output_type": "stream",
     "text": [
      "Shape of matrix after one hot encodig on Train Data (67000, 51)\n",
      "Shape of matrix after one hot encodig on Test Data (33000, 51)\n",
      "Features Names are :  ['ak', 'al', 'ar', 'az', 'ca', 'co', 'ct', 'dc', 'de', 'fl', 'ga', 'hi', 'ia', 'id', 'il', 'in', 'ks', 'ky', 'la', 'ma', 'md', 'me', 'mi', 'mn', 'mo', 'ms', 'mt', 'nc', 'nd', 'ne', 'nh', 'nj', 'nm', 'nv', 'ny', 'oh', 'ok', 'or', 'pa', 'ri', 'sc', 'sd', 'tn', 'tx', 'ut', 'va', 'vt', 'wa', 'wi', 'wv', 'wy']\n"
     ]
    }
   ],
   "source": [
    "# Apply One-Hot Encoding on the categorical features either using OneHotEncoder() (or) CountVectorizer(binary=True)\n",
    "# https://scikit-learn.org/stable/modules/generated/sklearn.feature_extraction.text.CountVectorizer.html\n",
    "\n",
    "## We will be doing vectorization in two steps :\n",
    "## 1. We will fit the data \n",
    "## 2. We will transform the data\n",
    "\n",
    "\n",
    "\n",
    "## 1. Fitting the data : For fitting the data we will use count vectorizer which we have already imported\n",
    "vectorizer_school_state = CountVectorizer() \n",
    "vectorizer_school_state.fit(x_train['school_state'].values)\n",
    "    \n",
    "## 2. Transforming the data to its vectors form \n",
    "x_train_school_state = vectorizer_school_state.transform(x_train['school_state'].values)\n",
    "x_test_school_state = vectorizer_school_state.transform(x_test['school_state'].values)\n",
    "\n",
    "print(\"Shape of matrix after one hot encodig on Train Data\",x_train_school_state.shape)\n",
    "print(\"Shape of matrix after one hot encodig on Test Data\",x_test_school_state.shape)\n",
    "\n",
    "## Lets get the feature names present in school state https://stackoverflow.com/questions/42525072/get-selected-feature-names-tfidf-vectorizer#:~:text=You%20can%20use%20tfidf_vectorizer.,selected)%20from%20the%20raw%20documents.\n",
    "print(\"Features Names are : \", vectorizer_school_state.get_feature_names())"
   ]
  },
  {
   "cell_type": "markdown",
   "metadata": {},
   "source": [
    "1.4.1.2 -  Teacher Prefix"
   ]
  },
  {
   "cell_type": "code",
   "execution_count": 18,
   "metadata": {},
   "outputs": [
    {
     "name": "stdout",
     "output_type": "stream",
     "text": [
      "Shape of matrix after one hot encodig on Train Data (67000, 5)\n",
      "Shape of matrix after one hot encodig on Test Data (33000, 5)\n",
      "Features Names are :  ['dr', 'mr', 'mrs', 'ms', 'teacher']\n"
     ]
    }
   ],
   "source": [
    "# Apply One-Hot Encoding on the categorical features either using OneHotEncoder() (or) CountVectorizer(binary=True)\n",
    "# https://scikit-learn.org/stable/modules/generated/sklearn.feature_extraction.text.CountVectorizer.html\n",
    "\n",
    "## We will be doing vectorization in two steps :\n",
    "## 1. We will fit the data \n",
    "## 2. We will transform the data\n",
    "\n",
    "\n",
    "\n",
    "## 1. Fitting the data : For fitting the data we will use count vectorizer which we have already imported\n",
    "vectorizer_teacher_prefix = CountVectorizer() \n",
    "vectorizer_teacher_prefix.fit(x_train['teacher_prefix'].values)\n",
    "    \n",
    "## 2. Transforming the data to its vectors form \n",
    "x_train_teacher_prefix = vectorizer_teacher_prefix.transform(x_train['teacher_prefix'].values)\n",
    "x_test_teacher_prefix = vectorizer_teacher_prefix.transform(x_test['teacher_prefix'].values)\n",
    "\n",
    "print(\"Shape of matrix after one hot encodig on Train Data\",x_train_teacher_prefix.shape)\n",
    "print(\"Shape of matrix after one hot encodig on Test Data\",x_test_teacher_prefix.shape)\n",
    "\n",
    "## Lets get the feature names present in school state https://stackoverflow.com/questions/42525072/get-selected-feature-names-tfidf-vectorizer#:~:text=You%20can%20use%20tfidf_vectorizer.,selected)%20from%20the%20raw%20documents.\n",
    "print(\"Features Names are : \", vectorizer_teacher_prefix.get_feature_names())"
   ]
  },
  {
   "cell_type": "markdown",
   "metadata": {},
   "source": [
    "1.4.1.3  clean categories  "
   ]
  },
  {
   "cell_type": "code",
   "execution_count": 19,
   "metadata": {},
   "outputs": [
    {
     "name": "stdout",
     "output_type": "stream",
     "text": [
      "Shape of matrix after one hot encodig on Train Data (67000, 9)\n",
      "Shape of matrix after one hot encodig on Test Data (33000, 9)\n",
      "Features Names are :  ['appliedlearning', 'care_hunger', 'health_sports', 'history_civics', 'literacy_language', 'math_science', 'music_arts', 'specialneeds', 'warmth']\n"
     ]
    }
   ],
   "source": [
    "# Apply One-Hot Encoding on the categorical features either using OneHotEncoder() (or) CountVectorizer(binary=True)\n",
    "# https://scikit-learn.org/stable/modules/generated/sklearn.feature_extraction.text.CountVectorizer.html\n",
    "\n",
    "## We will be doing vectorization in two steps :\n",
    "## 1. We will fit the data \n",
    "## 2. We will transform the data\n",
    "\n",
    "\n",
    "\n",
    "## 1. Fitting the data : For fitting the data we will use count vectorizer which we have already imported\n",
    "vectorizer_clean_categories = CountVectorizer() \n",
    "vectorizer_clean_categories.fit(x_train['clean_categories'].values)\n",
    "    \n",
    "## 2. Transforming the data to its vectors form \n",
    "x_train_clean_categories = vectorizer_clean_categories.transform(x_train['clean_categories'].values)\n",
    "x_test_clean_categories = vectorizer_clean_categories.transform(x_test['clean_categories'].values)\n",
    "\n",
    "print(\"Shape of matrix after one hot encodig on Train Data\",x_train_clean_categories.shape)\n",
    "print(\"Shape of matrix after one hot encodig on Test Data\",x_test_clean_categories.shape)\n",
    "\n",
    "## Lets get the feature names present in school state https://stackoverflow.com/questions/42525072/get-selected-feature-names-tfidf-vectorizer#:~:text=You%20can%20use%20tfidf_vectorizer.,selected)%20from%20the%20raw%20documents.\n",
    "print(\"Features Names are : \", vectorizer_clean_categories.get_feature_names())"
   ]
  },
  {
   "cell_type": "markdown",
   "metadata": {},
   "source": [
    "1.4.1.4 - Clean Sub Categories"
   ]
  },
  {
   "cell_type": "code",
   "execution_count": 20,
   "metadata": {},
   "outputs": [
    {
     "name": "stdout",
     "output_type": "stream",
     "text": [
      "Shape of matrix after one hot encodig on Train Data (67000, 30)\n",
      "Shape of matrix after one hot encodig on Test Data (33000, 30)\n",
      "\n",
      "\n",
      "Features Names are :  ['appliedsciences', 'care_hunger', 'charactereducation', 'civics_government', 'college_careerprep', 'communityservice', 'earlydevelopment', 'economics', 'environmentalscience', 'esl', 'extracurricular', 'financialliteracy', 'foreignlanguages', 'gym_fitness', 'health_lifescience', 'health_wellness', 'history_geography', 'literacy', 'literature_writing', 'mathematics', 'music', 'nutritioneducation', 'other', 'parentinvolvement', 'performingarts', 'socialsciences', 'specialneeds', 'teamsports', 'visualarts', 'warmth']\n"
     ]
    }
   ],
   "source": [
    "# Apply One-Hot Encoding on the categorical features either using OneHotEncoder() (or) CountVectorizer(binary=True)\n",
    "# https://scikit-learn.org/stable/modules/generated/sklearn.feature_extraction.text.CountVectorizer.html\n",
    "\n",
    "## We will be doing vectorization in two steps :\n",
    "## 1. We will fit the data \n",
    "## 2. We will transform the data\n",
    "\n",
    "\n",
    "\n",
    "## 1. Fitting the data : For fitting the data we will use count vectorizer which we have already imported\n",
    "vectorizer_clean_subcategories = CountVectorizer() \n",
    "vectorizer_clean_subcategories.fit(x_train['clean_subcategories'].values)\n",
    "    \n",
    "## 2. Transforming the data to its vectors form \n",
    "x_train_clean_subcategories = vectorizer_clean_subcategories.transform(x_train['clean_subcategories'].values)\n",
    "x_test_clean_subcategories = vectorizer_clean_subcategories.transform(x_test['clean_subcategories'].values)\n",
    "\n",
    "print(\"Shape of matrix after one hot encodig on Train Data\",x_train_clean_subcategories.shape)\n",
    "print(\"Shape of matrix after one hot encodig on Test Data\",x_test_clean_subcategories.shape)\n",
    "print('\\n')\n",
    "## Lets get the feature names present in school state https://stackoverflow.com/questions/42525072/get-selected-feature-names-tfidf-vectorizer#:~:text=You%20can%20use%20tfidf_vectorizer.,selected)%20from%20the%20raw%20documents.\n",
    "print(\"Features Names are : \", vectorizer_clean_subcategories.get_feature_names())"
   ]
  },
  {
   "cell_type": "markdown",
   "metadata": {},
   "source": [
    "1.4.1.5 - project_grade_category "
   ]
  },
  {
   "cell_type": "code",
   "execution_count": 21,
   "metadata": {},
   "outputs": [
    {
     "name": "stdout",
     "output_type": "stream",
     "text": [
      "Shape of matrix after one hot encodig on Train Data (67000, 4)\n",
      "Shape of matrix after one hot encodig on Test Data (33000, 4)\n",
      "Features Names are :  ['grades_3_5', 'grades_6_8', 'grades_9_12', 'grades_prek_2']\n"
     ]
    }
   ],
   "source": [
    "# Apply One-Hot Encoding on the categorical features either using OneHotEncoder() (or) CountVectorizer(binary=True)\n",
    "# https://scikit-learn.org/stable/modules/generated/sklearn.feature_extraction.text.CountVectorizer.html\n",
    "\n",
    "## We will be doing vectorization in two steps :\n",
    "## 1. We will fit the data \n",
    "## 2. We will transform the data\n",
    "\n",
    "\n",
    "\n",
    "## 1. Fitting the data : For fitting the data we will use count vectorizer which we have already imported\n",
    "vectorizer_project_grade_category = CountVectorizer() \n",
    "vectorizer_project_grade_category.fit(x_train['project_grade_category'].values)\n",
    "    \n",
    "## 2. Transforming the data to its vectors form \n",
    "x_train_project_grade_category = vectorizer_project_grade_category.transform(x_train['project_grade_category'].values)\n",
    "x_test_project_grade_category = vectorizer_project_grade_category.transform(x_test['project_grade_category'].values)\n",
    "\n",
    "print(\"Shape of matrix after one hot encodig on Train Data\",x_train_project_grade_category.shape)\n",
    "print(\"Shape of matrix after one hot encodig on Test Data\",x_test_project_grade_category.shape)\n",
    "\n",
    "## Lets get the feature names present in school state https://stackoverflow.com/questions/42525072/get-selected-feature-names-tfidf-vectorizer#:~:text=You%20can%20use%20tfidf_vectorizer.,selected)%20from%20the%20raw%20documents.\n",
    "print(\"Features Names are : \", vectorizer_project_grade_category.get_feature_names())"
   ]
  },
  {
   "cell_type": "markdown",
   "metadata": {},
   "source": [
    "### 1.4.2- Performing Vectorization on Numerical Data "
   ]
  },
  {
   "cell_type": "markdown",
   "metadata": {},
   "source": [
    "1.4.2.1 - Price"
   ]
  },
  {
   "cell_type": "code",
   "execution_count": 22,
   "metadata": {},
   "outputs": [
    {
     "name": "stdout",
     "output_type": "stream",
     "text": [
      "Shape of matrix after Normalizing data on Train Data (67000, 1)\n",
      "Shape of matrix after Normalizing data on Test Data (33000, 1)\n"
     ]
    }
   ],
   "source": [
    "# Apply Normalization on the numerical features using Normalizer().\n",
    "## Using Normalization : https://scikit-learn.org/stable/modules/generated/sklearn.preprocessing.Normalizer.html\n",
    "\n",
    "## We will be doing vectorization in two steps :\n",
    "## 1. We will fit the data on train set\n",
    "## 2. We will transform the data of train set\n",
    "## 3. We will fit the data of test set\n",
    "## 4. We will transform the data of test set\n",
    "\n",
    "\n",
    "\n",
    "## 1. Fitting the data : For fitting the data we will use Normalizer which we have already imported\n",
    "vectorizer_price = Normalizer() \n",
    "vectorizer_price.fit(x_train['price'].values.reshape(1,-1))\n",
    "\n",
    "## 2. Transforming the data to its vectors form \n",
    "x_train_price  = vectorizer_price.transform(x_train['price'].values.reshape(1,-1))\n",
    "x_train_price = x_train_price.reshape(-1,1)\n",
    "print(\"Shape of matrix after Normalizing data on Train Data\",x_train_price.shape)\n",
    "\n",
    "## 3. Fitting the data : For fitting the data we will use Normalizer which we have already imported\n",
    "vectorizer_price1 = Normalizer() \n",
    "vectorizer_price1.fit(x_test['price'].values.reshape(1,-1))\n",
    "\n",
    "## 4. Transforming the data to its vectors form \n",
    "x_test_price  = vectorizer_price1.transform(x_test['price'].values.reshape(1,-1))\n",
    "x_test_price = x_test_price.reshape(-1,1)\n",
    "print(\"Shape of matrix after Normalizing data on Test Data\",x_test_price.shape)\n"
   ]
  },
  {
   "cell_type": "markdown",
   "metadata": {},
   "source": [
    "1.4.2.2 - teacher_number_of_previously_posted_projects"
   ]
  },
  {
   "cell_type": "code",
   "execution_count": 23,
   "metadata": {},
   "outputs": [
    {
     "name": "stdout",
     "output_type": "stream",
     "text": [
      "Shape of matrix after Normalizing data on Train Data (67000, 1)\n",
      "Shape of matrix after Normalizing data on Test Data (33000, 1)\n"
     ]
    }
   ],
   "source": [
    "# Apply Normalization on the numerical features using Normalizer().\n",
    "## Using Normalization : https://scikit-learn.org/stable/modules/generated/sklearn.preprocessing.Normalizer.html\n",
    "\n",
    "## We will be doing vectorization in two steps :\n",
    "## 1. We will fit the data on train set\n",
    "## 2. We will transform the data of train set\n",
    "## 3. We will fit the data of test set\n",
    "## 4. We will transform the data of test set\n",
    "\n",
    "\n",
    "\n",
    "## 1. Fitting the data : For fitting the data we will use Normalizer which we have already imported\n",
    "vectorizer_teacher_number_of_previously_posted_projects = Normalizer() \n",
    "vectorizer_teacher_number_of_previously_posted_projects.fit(x_train['teacher_number_of_previously_posted_projects'].values.reshape(1,-1))\n",
    "\n",
    "## 2. Transforming the data to its vectors form \n",
    "x_train_teacher_number_of_previously_posted_projects  = vectorizer_price.transform(x_train['teacher_number_of_previously_posted_projects'].values.reshape(1,-1))\n",
    "x_train_teacher_number_of_previously_posted_projects = x_train_price.reshape(-1,1)\n",
    "print(\"Shape of matrix after Normalizing data on Train Data\",x_train_teacher_number_of_previously_posted_projects.shape)\n",
    "\n",
    "## 3. Fitting the data : For fitting the data we will use Normalizer which we have already imported\n",
    "vectorizer_teacher_number_of_previously_posted_projects1 = Normalizer() \n",
    "vectorizer_teacher_number_of_previously_posted_projects1.fit(x_test['teacher_number_of_previously_posted_projects'].values.reshape(1,-1))\n",
    "\n",
    "## 4. Transforming the data to its vectors form \n",
    "x_test_teacher_number_of_previously_posted_projects  = vectorizer_teacher_number_of_previously_posted_projects1.transform(x_test['price'].values.reshape(1,-1))\n",
    "x_test_teacher_number_of_previously_posted_projects = x_test_teacher_number_of_previously_posted_projects.reshape(-1,1)\n",
    "print(\"Shape of matrix after Normalizing data on Test Data\",x_test_teacher_number_of_previously_posted_projects.shape)\n"
   ]
  },
  {
   "cell_type": "markdown",
   "metadata": {},
   "source": [
    "## Concatinating all features using hstack()\n"
   ]
  },
  {
   "cell_type": "markdown",
   "metadata": {},
   "source": [
    "\n",
    "SET - 1\n",
    "\n",
    "SET-1 : Categorical,numerical features + preprocessed_eassy(BOW)\n",
    "\n"
   ]
  },
  {
   "cell_type": "code",
   "execution_count": 24,
   "metadata": {},
   "outputs": [
    {
     "name": "stdout",
     "output_type": "stream",
     "text": [
      "Shape of Train and test after stacking \n",
      "(67000, 13894)\n",
      "(33000, 13894)\n"
     ]
    }
   ],
   "source": [
    "# we can concat using : https://stackoverflow.com/a/19710648/4084039\n",
    "from scipy.sparse import hstack\n",
    "\n",
    "x_train_concat = hstack((x_train_bow,x_train_school_state , x_train_teacher_prefix , x_train_clean_categories , x_train_clean_subcategories , x_train_project_grade_category , x_train_price , x_train_teacher_number_of_previously_posted_projects))\n",
    "x_test_concat = hstack((x_test_bow,x_test_school_state , x_test_teacher_prefix , x_test_clean_categories , x_test_clean_subcategories , x_test_project_grade_category , x_test_price , x_test_teacher_number_of_previously_posted_projects))\n",
    "\n",
    "print(\"Shape of Train and test after stacking \")\n",
    "print(x_train_concat.shape)\n",
    "print(x_test_concat.shape)\n"
   ]
  },
  {
   "cell_type": "markdown",
   "metadata": {},
   "source": [
    "\n",
    "SET - 2\n",
    "\n",
    "SET-2 : Categorical,numerical features + preprocessed_eassy(TFIDF)\n",
    "\n"
   ]
  },
  {
   "cell_type": "code",
   "execution_count": 25,
   "metadata": {},
   "outputs": [
    {
     "name": "stdout",
     "output_type": "stream",
     "text": [
      "Shape of Train and test after stacking \n",
      "(67000, 13894)\n",
      "(33000, 13894)\n"
     ]
    }
   ],
   "source": [
    "# we can concat using : https://stackoverflow.com/a/19710648/4084039\n",
    "\n",
    "from scipy.sparse import hstack\n",
    "\n",
    "x_train_concat1 = hstack((x_train_tfidf,x_train_school_state , x_train_teacher_prefix , x_train_clean_categories , x_train_clean_subcategories , x_train_project_grade_category , x_train_price , x_train_teacher_number_of_previously_posted_projects))\n",
    "x_test_concat1 = hstack((x_test_tfidf,x_test_school_state , x_test_teacher_prefix , x_test_clean_categories , x_test_clean_subcategories , x_test_project_grade_category , x_test_price , x_test_teacher_number_of_previously_posted_projects))\n",
    "\n",
    "print(\"Shape of Train and test after stacking \")\n",
    "print(x_train_concat1.shape)\n",
    "print(x_test_concat1.shape)\n"
   ]
  },
  {
   "cell_type": "markdown",
   "metadata": {
    "id": "yYHPYadYb3dh"
   },
   "source": [
    "<h2>1.5 Appling NB on different kind of featurization as mentioned in the instructions</h2>\n",
    "\n",
    "<br>Apply NB on different kind of featurization as mentioned in the instructions\n",
    "<br> For Every model that you work on make sure you do the step 2 and step 3 of instrucations"
   ]
  },
  {
   "cell_type": "markdown",
   "metadata": {},
   "source": [
    "### 1.5 Multinomial Naive Bayes using grid search cv (Set -1)"
   ]
  },
  {
   "cell_type": "markdown",
   "metadata": {
    "id": "DNwqilFxb3di"
   },
   "source": [
    "#### Set 1"
   ]
  },
  {
   "cell_type": "code",
   "execution_count": 26,
   "metadata": {},
   "outputs": [
    {
     "data": {
      "image/png": "[encoded data removed]",
      "text/plain": [
       "<Figure size 432x288 with 1 Axes>"
      ]
     },
     "metadata": {
      "needs_background": "light"
     },
     "output_type": "display_data"
    }
   ],
   "source": [
    "# Perform Hyperparameter Tuning.\n",
    "# Plot the training and the CV AUC scores, for different values of 'alpha', using a 2D line plot\n",
    "\n",
    "##Implementation :https://coderzcolumn.com/tutorials/machine-learning/scikit-learn-sklearn-naive-bayes\n",
    "\n",
    "\n",
    "## importing MultinomialNB and GridSearch CV \n",
    "from sklearn.naive_bayes import MultinomialNB\n",
    "from sklearn.model_selection import GridSearchCV\n",
    "\n",
    "##creating a class for Model \n",
    "multnomial_nb = MultinomialNB()\n",
    "\n",
    "##specifying the parameters for GridSearch CV\n",
    "params = {'alpha': [0.01 , 0.1 , 0.5 , 1.0 , 10.0]}\n",
    "multinomial_nb_grid = GridSearchCV(multnomial_nb, param_grid = params , scoring='roc_auc' , cv = 10 , return_train_score = True)\n",
    "multinomial_nb_grid.fit(x_train_concat , y_train)\n",
    "\n",
    "# Plot the training and the CV AUC scores, for different values of 'alpha', using a 2D line plot\n",
    "\n",
    "# Finding the best parameter using gridsearchcv and 10-folds\n",
    "## Source : https://scikit-learn.org/stable/auto_examples/model_selection/plot_grid_search_digits.html\n",
    "multinomial_nb_grid = GridSearchCV(multnomial_nb, params, cv=10, scoring='roc_auc', return_train_score=True)\n",
    "multinomial_nb_grid.fit(x_train_concat , y_train)\n",
    "\n",
    "\n",
    "train_auc=  multinomial_nb_grid.cv_results_['mean_train_score']\n",
    "train_auc_std= multinomial_nb_grid.cv_results_['std_train_score']\n",
    "test_auc = multinomial_nb_grid.cv_results_['mean_test_score'] \n",
    "test_auc_std= multinomial_nb_grid.cv_results_['std_test_score']\n",
    "\n",
    "\n",
    "\n",
    "# We use log(alpha) values so as to get a more distinguishable graph because log is monotonous function \n",
    "# and it won't affect our results\n",
    "\n",
    "# plotting graph for auc score : https://stackoverflow.com/a/48803361/4084039\n",
    "plt.plot(np.log(params['alpha']), train_auc, label='Train AUC')\n",
    "\n",
    "\n",
    "# source : https://stackoverflow.com/a/48803361/4084039\n",
    "plt.plot(np.log(params['alpha']), test_auc, label='CV AUC')\n",
    "\n",
    "\n",
    "plt.scatter(np.log(params['alpha']), train_auc, label='Train AUC points')\n",
    "plt.scatter(np.log(params['alpha']), test_auc , label='Test AUC points')\n",
    "\n",
    "\n",
    "plt.legend()\n",
    "plt.xlabel(\"alpha: hyperparameter\")\n",
    "plt.ylabel(\"AUC\")\n",
    "plt.title(\"ERROR PLOTS\")\n",
    "plt.grid()\n",
    "plt.show()"
   ]
  },
  {
   "cell_type": "markdown",
   "metadata": {},
   "source": [
    "### In above code we are fitting 10 folds on 5 parameters total we get 50 fit"
   ]
  },
  {
   "cell_type": "code",
   "execution_count": 27,
   "metadata": {},
   "outputs": [
    {
     "name": "stdout",
     "output_type": "stream",
     "text": [
      "Train Accuracy : 0.774\n",
      "Test Accuracy : 0.743\n",
      "Best Accuracy through Grid Search  0.705\n",
      "Best Parameters :  {'alpha': 0.5}\n"
     ]
    }
   ],
   "source": [
    "## Next step is printing best scores for train data , test data , Overall best score , Best parameter \n",
    "## https://coderzcolumn.com/tutorials/machine-learning/scikit-learn-sklearn-naive-bayes\n",
    "train_accuracy = print('Train Accuracy : %.3f' %multinomial_nb_grid.best_estimator_.score(x_train_concat , y_train))\n",
    "test_accuracy = print('Test Accuracy : %.3f' %multinomial_nb_grid.best_estimator_.score(x_test_concat , y_test))\n",
    "best_accuracy = print('Best Accuracy through Grid Search  %.3f' %multinomial_nb_grid.best_score_)\n",
    "best_alpha  = print('Best Parameters : ',multinomial_nb_grid.best_params_)\n",
    "\n",
    "\n"
   ]
  },
  {
   "cell_type": "code",
   "execution_count": 28,
   "metadata": {},
   "outputs": [],
   "source": [
    "# Obtain the optimal value for 'alpha' and using the obtained optimal 'alpha' value, fit a multinomial naive bayes model, on the train data,\n",
    "# Note: If you have split the datase into 3 parts (ie., train, cv and test sets) in the beginning, then the training datafor this final model would be (train set + cv set)\n",
    "# Make class label and probability predictions on the train and test data.\n"
   ]
  },
  {
   "cell_type": "code",
   "execution_count": 29,
   "metadata": {},
   "outputs": [
    {
     "name": "stdout",
     "output_type": "stream",
     "text": [
      "Best Parameters :  {'alpha': 0.5}\n"
     ]
    }
   ],
   "source": [
    "# Here we are choosing the best_α based on GridSearchCV results\n",
    "best_alpha  = print('Best Parameters : ',multinomial_nb_grid.best_params_)\n"
   ]
  },
  {
   "cell_type": "code",
   "execution_count": 30,
   "metadata": {},
   "outputs": [],
   "source": [
    "best_alpha = 0.5"
   ]
  },
  {
   "cell_type": "code",
   "execution_count": 31,
   "metadata": {},
   "outputs": [],
   "source": [
    "# Plot the ROC-AUC curves using the probability predictions made on train and test data.\n"
   ]
  },
  {
   "cell_type": "code",
   "execution_count": 32,
   "metadata": {},
   "outputs": [
    {
     "data": {
      "image/png": "[encoded data removed]",
      "text/plain": [
       "<Figure size 432x288 with 1 Axes>"
      ]
     },
     "metadata": {
      "needs_background": "light"
     },
     "output_type": "display_data"
    },
    {
     "name": "stdout",
     "output_type": "stream",
     "text": [
      "CPU times: user 402 ms, sys: 184 ms, total: 586 ms\n",
      "Wall time: 377 ms\n"
     ]
    }
   ],
   "source": [
    "%%time\n",
    "# https://scikit-learn.org/stable/modules/generated/sklearn.metrics.roc_curve.html#sklearn.metrics.roc_curve\n",
    "from sklearn.metrics import roc_curve, auc\n",
    "from sklearn.naive_bayes import MultinomialNB\n",
    "\n",
    "# Creating the classifier\n",
    "multnomial_nb = MultinomialNB(alpha= best_alpha)\n",
    "multnomial_nb.fit(x_train_concat, y_train)\n",
    "\n",
    "\n",
    "# roc_auc_score(y_true, y_score) the 2nd parameter should be probability estimates of the positive class\n",
    "# not the predicted outputs\n",
    "\n",
    "# Getting the predicted probability scores for test and train values\n",
    "y_train_pred = multnomial_nb.predict_proba(x_train_concat)[:,1]   \n",
    "y_test_pred = multnomial_nb.predict_proba(x_test_concat)[:,1]\n",
    "\n",
    "\n",
    "train_fpr, train_tpr, train_thresholds = roc_curve(y_train, y_train_pred)\n",
    "test_fpr, test_tpr, test_thresholds = roc_curve(y_test, y_test_pred)\n",
    "\n",
    "plt.plot(train_fpr, train_tpr, label=\"train AUC =\"+str(auc(train_fpr, train_tpr)))\n",
    "plt.plot(test_fpr, test_tpr, label=\"test AUC =\"+str(auc(test_fpr, test_tpr)))\n",
    "plt.legend()\n",
    "plt.xlabel(\"Alpha α: hyperparameter\")\n",
    "plt.ylabel(\"AUC\")\n",
    "plt.title(\"Error Plot\")\n",
    "plt.grid()\n",
    "plt.show()"
   ]
  },
  {
   "cell_type": "markdown",
   "metadata": {},
   "source": [
    "**We can finally observe that the curve for test AUC is lower then train AUC . \n",
    "We choose alpha value as 0.5 because it has maximum AUC value on Cross Validation set , also the AUC score for train data is aprroximately 0.78 and for test data is 0.70 .**"
   ]
  },
  {
   "cell_type": "code",
   "execution_count": 33,
   "metadata": {},
   "outputs": [],
   "source": [
    "# Pick the best threshold among the probability estimates, such that it has to yield maximum value for TPR*(1-FPR)\n",
    "# Plot the confusion matrices(each for train and test data) afer encoding the predicted class labels, on the basis of the best threshod probability estimate.\n"
   ]
  },
  {
   "cell_type": "code",
   "execution_count": 34,
   "metadata": {},
   "outputs": [],
   "source": [
    "# Pick the best threshold among the probability estimates, such that it has to yield maximum value for TPR*(1-FPR)\n",
    "\n",
    "def find_best_probability(probability , threshold , fpr , tpr):\n",
    "    ## we can find the threshold using the formula tpr(1-fpr)\n",
    "    ## for threshold to be maximum we are using np.argmax function which yeilds the maximum value\n",
    "    threshold = threshold[np.argmax(tpr*(1-fpr))]   \n",
    "    print(\"Value of fpr(1-tpr) is \" , threshold ,  \"for threshold\" , np.round(threshold,3))\n",
    "    \n",
    "    prediction = []\n",
    "    for j in probability:\n",
    "        if j>=threshold:\n",
    "            prediction.append(1)\n",
    "        else:\n",
    "            prediction.append(0)\n",
    "    return prediction"
   ]
  },
  {
   "cell_type": "code",
   "execution_count": 35,
   "metadata": {},
   "outputs": [
    {
     "name": "stdout",
     "output_type": "stream",
     "text": [
      "              precision    recall  f1-score   support\n",
      "\n",
      "     class 0       0.29      0.50      0.37      4950\n",
      "     class 1       0.90      0.79      0.84     28050\n",
      "\n",
      "    accuracy                           0.74     33000\n",
      "   macro avg       0.60      0.64      0.60     33000\n",
      "weighted avg       0.81      0.74      0.77     33000\n",
      "\n"
     ]
    }
   ],
   "source": [
    "# https://scikit-learn.org/stable/modules/generated/sklearn.metrics.classification_report.html\n",
    "\n",
    "from sklearn.metrics import classification_report\n",
    "\n",
    "y_pred_new = multnomial_nb.predict(x_test_concat)\n",
    "target_names = ['class 0', 'class 1']\n",
    "print(classification_report(y_test, y_pred_new, target_names = target_names))"
   ]
  },
  {
   "cell_type": "code",
   "execution_count": 36,
   "metadata": {},
   "outputs": [
    {
     "name": "stdout",
     "output_type": "stream",
     "text": [
      " Accuracy on test dataset: 0.743\n",
      " Precision  on test dataset: 0.900\n",
      " F1 score on test dataset: 0.839\n",
      " Recall score on test dataset: 0.786\n",
      "CPU times: user 79.7 ms, sys: 222 µs, total: 79.9 ms\n",
      "Wall time: 77.5 ms\n"
     ]
    }
   ],
   "source": [
    "%%time\n",
    "## lets find the accuracy , precission , recall and f1 score on test dataset\n",
    "# https://scikit-learn.org/stable/modules/classes.html#module-sklearn.metrics\n",
    "from sklearn.metrics import accuracy_score\n",
    "from sklearn.metrics import confusion_matrix\n",
    "from sklearn.metrics import precision_score\n",
    "from sklearn.metrics import f1_score\n",
    "from sklearn.metrics import recall_score\n",
    "\n",
    "y_pred_new = multnomial_nb.predict(x_test_concat)\n",
    "\n",
    "test_accuracy = print(' Accuracy on test dataset: %.3f' %accuracy_score(y_test , y_pred_new))\n",
    "test_Precision_score = print(' Precision  on test dataset: %.3f' %precision_score(y_test , y_pred_new))\n",
    "test_f1_score = print(' F1 score on test dataset: %.3f' %f1_score(y_test , y_pred_new))\n",
    "recall_score = print(' Recall score on test dataset: %.3f' %recall_score(y_test , y_pred_new))\n"
   ]
  },
  {
   "cell_type": "code",
   "execution_count": 37,
   "metadata": {},
   "outputs": [
    {
     "name": "stdout",
     "output_type": "stream",
     "text": [
      "Confusion Matrix of Train Dataset: \n",
      "Value of fpr(1-tpr) is  0.8630739787404573 for threshold 0.863\n"
     ]
    },
    {
     "data": {
      "image/png": "[encoded data removed]",
      "text/plain": [
       "<Figure size 432x288 with 2 Axes>"
      ]
     },
     "metadata": {
      "needs_background": "light"
     },
     "output_type": "display_data"
    }
   ],
   "source": [
    "# Plot the confusion matrices(each for train and test data) afer encoding the predicted class labels, on the basis of the best threshod probability estimate.\n",
    "## https://coderzcolumn.com/tutorials/machine-learning/model-evaluation-scoring-metrics-scikit-learn-sklearn\n",
    "from sklearn.metrics import confusion_matrix\n",
    "\n",
    "print(\"Confusion Matrix of Train Dataset: \")\n",
    "\n",
    "##print(confusion_matrix(y_train, find_best_probability(y_train_pred, train_thresholds, train_fpr, train_tpr)))\n",
    "\n",
    "confusion_metric = metrics.confusion_matrix(y_train ,find_best_probability(y_train_pred, train_thresholds, train_fpr, train_tpr))\n",
    "## For heat maphttps://stackoverflow.com/questions/61748441/how-to-fix-the-values-displayed-in-a-confusion-matrix-in-exponential-form-to-nor\n",
    "## If annot is True data value is written inside each cell and cmao is used for colour coordination of the confusion matrix \n",
    "sns.heatmap(confusion_metric , annot=True , fmt='d' , cmap = 'Reds')\n",
    "plt.title('Confusion Matrix')\n",
    "plt.ylabel('Actal Values')\n",
    "plt.xlabel('Predicted Values')\n",
    "plt.show()"
   ]
  },
  {
   "cell_type": "code",
   "execution_count": 38,
   "metadata": {},
   "outputs": [
    {
     "name": "stdout",
     "output_type": "stream",
     "text": [
      "Confusion Matrix of Test Dataset: \n",
      "Value of fpr(1-tpr) is  0.905948871136255 for threshold 0.906\n"
     ]
    },
    {
     "data": {
      "image/png": "[encoded data removed]",
      "text/plain": [
       "<Figure size 432x288 with 2 Axes>"
      ]
     },
     "metadata": {
      "needs_background": "light"
     },
     "output_type": "display_data"
    }
   ],
   "source": [
    "# Plot the confusion matrices(each for train and test data) afer encoding the predicted class labels, on the basis of the best threshod probability estimate.\n",
    "\n",
    "## https://coderzcolumn.com/tutorials/machine-learning/model-evaluation-scoring-metrics-scikit-learn-sklearn\n",
    "from sklearn.metrics import confusion_matrix\n",
    "\n",
    "print(\"Confusion Matrix of Test Dataset: \")\n",
    "\n",
    "##print(confusion_matrix(y_train, find_best_probability(y_train_pred, train_thresholds, train_fpr, train_tpr)))\n",
    "\n",
    "confusion_metric = metrics.confusion_matrix(y_test ,find_best_probability(y_test_pred, test_thresholds, test_fpr, test_tpr))\n",
    "## Fir heat maphttps://stackoverflow.com/questions/61748441/how-to-fix-the-values-displayed-in-a-confusion-matrix-in-exponential-form-to-nor\n",
    "## If annot is True data value is written inside each cell and cmao is used for colour coordination of the confusion matrix \n",
    "sns.heatmap(confusion_metric , annot=True , fmt='d' , cmap = 'Greens')\n",
    "plt.title('Confusion Matrix')\n",
    "plt.ylabel('Actal Values')\n",
    "plt.xlabel('Predicted Values')\n",
    "plt.show()"
   ]
  },
  {
   "cell_type": "code",
   "execution_count": null,
   "metadata": {},
   "outputs": [],
   "source": []
  },
  {
   "cell_type": "markdown",
   "metadata": {},
   "source": [
    "#### Set 2"
   ]
  },
  {
   "cell_type": "code",
   "execution_count": 39,
   "metadata": {},
   "outputs": [
    {
     "data": {
      "image/png": "[encoded data removed]",
      "text/plain": [
       "<Figure size 432x288 with 1 Axes>"
      ]
     },
     "metadata": {
      "needs_background": "light"
     },
     "output_type": "display_data"
    }
   ],
   "source": [
    "# Perform Hyperparameter Tuning.\n",
    "# Plot the training and the CV AUC scores, for different values of 'alpha', using a 2D line plot\n",
    "\n",
    "##Implementation :https://coderzcolumn.com/tutorials/machine-learning/scikit-learn-sklearn-naive-bayes\n",
    "\n",
    "\n",
    "## importing MultinomialNB and GridSearch CV \n",
    "from sklearn.naive_bayes import MultinomialNB\n",
    "from sklearn.model_selection import GridSearchCV\n",
    "\n",
    "##creating a class for Model \n",
    "multnomial_nb = MultinomialNB()\n",
    "\n",
    "##specifying the parameters for GridSearch CV\n",
    "params = {'alpha': [0.01 , 0.1 , 0.5 , 1.0 , 10.0]}\n",
    "multinomial_nb_grid = GridSearchCV(multnomial_nb, param_grid = params , scoring='roc_auc' , cv = 10 , return_train_score = True)\n",
    "multinomial_nb_grid.fit(x_train_concat1 , y_train)\n",
    "\n",
    "# Plot the training and the CV AUC scores, for different values of 'alpha', using a 2D line plot\n",
    "\n",
    "# Finding the best parameter using gridsearchcv and 10-folds\n",
    "## Source : https://scikit-learn.org/stable/auto_examples/model_selection/plot_grid_search_digits.html\n",
    "multinomial_nb_grid = GridSearchCV(multnomial_nb, params, cv=10, scoring='roc_auc', return_train_score=True)\n",
    "multinomial_nb_grid.fit(x_train_concat1 , y_train)\n",
    "\n",
    "\n",
    "train_auc=  multinomial_nb_grid.cv_results_['mean_train_score']\n",
    "train_auc_std= multinomial_nb_grid.cv_results_['std_train_score']\n",
    "test_auc = multinomial_nb_grid.cv_results_['mean_test_score'] \n",
    "test_auc_std= multinomial_nb_grid.cv_results_['std_test_score']\n",
    "\n",
    "\n",
    "\n",
    "# We use log(alpha) values so as to get a more distinguishable graph because log is monotonous function \n",
    "# and it won't affect our results\n",
    "\n",
    "# plotting graph for auc score : https://stackoverflow.com/a/48803361/4084039\n",
    "plt.plot(np.log(params['alpha']), train_auc, label='Train AUC')\n",
    "\n",
    "\n",
    "# source : https://stackoverflow.com/a/48803361/4084039\n",
    "plt.plot(np.log(params['alpha']), test_auc, label='CV AUC')\n",
    "\n",
    "\n",
    "plt.scatter(np.log(params['alpha']), train_auc, label='Train AUC points')\n",
    "plt.scatter(np.log(params['alpha']), test_auc , label='Test AUC points')\n",
    "\n",
    "\n",
    "plt.legend()\n",
    "plt.xlabel(\"alpha: hyperparameter\")\n",
    "plt.ylabel(\"AUC\")\n",
    "plt.title(\"ERROR PLOTS\")\n",
    "plt.grid()\n",
    "plt.show()"
   ]
  },
  {
   "cell_type": "code",
   "execution_count": 40,
   "metadata": {},
   "outputs": [
    {
     "name": "stdout",
     "output_type": "stream",
     "text": [
      "Train Accuracy : 0.751\n",
      "Test Accuracy : 0.721\n",
      "Best Accuracy through Grid Search  0.677\n",
      "Best Parameters :  {'alpha': 0.1}\n"
     ]
    }
   ],
   "source": [
    "## Next step is printing best scores for train data , test data , Overall best score , Best parameter \n",
    "## https://coderzcolumn.com/tutorials/machine-learning/scikit-learn-sklearn-naive-bayes\n",
    "train_accuracy = print('Train Accuracy : %.3f' %multinomial_nb_grid.best_estimator_.score(x_train_concat , y_train))\n",
    "test_accuracy = print('Test Accuracy : %.3f' %multinomial_nb_grid.best_estimator_.score(x_test_concat , y_test))\n",
    "best_accuracy = print('Best Accuracy through Grid Search  %.3f' %multinomial_nb_grid.best_score_)\n",
    "best_alpha  = print('Best Parameters : ',multinomial_nb_grid.best_params_)\n",
    "\n",
    "\n"
   ]
  },
  {
   "cell_type": "code",
   "execution_count": 41,
   "metadata": {},
   "outputs": [],
   "source": [
    "# Obtain the optimal value for 'alpha' and using the obtained optimal 'alpha' value, fit a multinomial naive bayes model, on the train data,\n",
    "# Note: If you have split the datase into 3 parts (ie., train, cv and test sets) in the beginning, then the training datafor this final model would be (train set + cv set)\n",
    "# Make class label and probability predictions on the train and test data.\n"
   ]
  },
  {
   "cell_type": "code",
   "execution_count": 42,
   "metadata": {},
   "outputs": [
    {
     "name": "stdout",
     "output_type": "stream",
     "text": [
      "Best Parameters :  {'alpha': 0.1}\n"
     ]
    }
   ],
   "source": [
    "# Here we are choosing the best_α based on GridSearchCV results\n",
    "best_alpha  = print('Best Parameters : ',multinomial_nb_grid.best_params_)\n"
   ]
  },
  {
   "cell_type": "code",
   "execution_count": 43,
   "metadata": {},
   "outputs": [],
   "source": [
    "best_alpha = 0.1"
   ]
  },
  {
   "cell_type": "code",
   "execution_count": 44,
   "metadata": {},
   "outputs": [],
   "source": [
    "# Plot the ROC-AUC curves using the probability predictions made on train and test data.\n"
   ]
  },
  {
   "cell_type": "code",
   "execution_count": 45,
   "metadata": {},
   "outputs": [
    {
     "data": {
      "image/png": "[encoded data removed]",
      "text/plain": [
       "<Figure size 432x288 with 1 Axes>"
      ]
     },
     "metadata": {
      "needs_background": "light"
     },
     "output_type": "display_data"
    },
    {
     "name": "stdout",
     "output_type": "stream",
     "text": [
      "CPU times: user 1.09 s, sys: 185 ms, total: 1.28 s\n",
      "Wall time: 1.07 s\n"
     ]
    }
   ],
   "source": [
    "%%time\n",
    "# https://scikit-learn.org/stable/modules/generated/sklearn.metrics.roc_curve.html#sklearn.metrics.roc_curve\n",
    "from sklearn.metrics import roc_curve, auc\n",
    "from sklearn.naive_bayes import MultinomialNB\n",
    "\n",
    "# Creating the classifier\n",
    "multnomial_nb = MultinomialNB(alpha= best_alpha)\n",
    "multnomial_nb.fit(x_train_concat1, y_train)\n",
    "\n",
    "\n",
    "# roc_auc_score(y_true, y_score) the 2nd parameter should be probability estimates of the positive class\n",
    "# not the predicted outputs\n",
    "\n",
    "# Getting the predicted probability scores for test and train values\n",
    "y_train_pred = multnomial_nb.predict_proba(x_train_concat1)[:,1]   \n",
    "y_test_pred = multnomial_nb.predict_proba(x_test_concat1)[:,1]\n",
    "\n",
    "\n",
    "train_fpr, train_tpr, train_thresholds = roc_curve(y_train, y_train_pred)\n",
    "test_fpr, test_tpr, test_thresholds = roc_curve(y_test, y_test_pred)\n",
    "\n",
    "plt.plot(train_fpr, train_tpr, label=\"train AUC =\"+str(auc(train_fpr, train_tpr)))\n",
    "plt.plot(test_fpr, test_tpr, label=\"test AUC =\"+str(auc(test_fpr, test_tpr)))\n",
    "plt.legend()\n",
    "plt.xlabel(\"Alpha : hyperparameter\")\n",
    "plt.ylabel(\"AUC\")\n",
    "plt.title(\"Error Plot\")\n",
    "plt.grid()\n",
    "plt.show()"
   ]
  },
  {
   "cell_type": "markdown",
   "metadata": {},
   "source": [
    "**Here we can see that the best alpha is 0.1 , train AUC is lower then test AUC and trai AUC gives a score of approximately 0.76 and test AUC gives a score of 0.68**"
   ]
  },
  {
   "cell_type": "code",
   "execution_count": 46,
   "metadata": {},
   "outputs": [],
   "source": [
    "# Pick the best threshold among the probability estimates, such that it has to yield maximum value for TPR*(1-FPR)\n",
    "# Plot the confusion matrices(each for train and test data) afer encoding the predicted class labels, on the basis of the best threshod probability estimate.\n"
   ]
  },
  {
   "cell_type": "code",
   "execution_count": 47,
   "metadata": {},
   "outputs": [],
   "source": [
    "# Pick the best threshold among the probability estimates, such that it has to yield maximum value for TPR*(1-FPR)\n",
    "\n",
    "def find_best_probability(probability , threshold , fpr , tpr):\n",
    "    ## we can find the threshold using the formula tpr(1-fpr)\n",
    "    ## for threshold to be maximum we are using np.argmax function which yeilds the maximum value\n",
    "    threshold = threshold[np.argmax(tpr*(1-fpr))]   \n",
    "    print(\"Value of fpr(1-tpr) is \" , threshold ,  \"for threshold\" , np.round(threshold,3))\n",
    "    \n",
    "    prediction = []\n",
    "    for j in probability:\n",
    "        if j>=threshold:\n",
    "            prediction.append(1)\n",
    "        else:\n",
    "            prediction.append(0)\n",
    "    return prediction"
   ]
  },
  {
   "cell_type": "code",
   "execution_count": 48,
   "metadata": {},
   "outputs": [
    {
     "name": "stdout",
     "output_type": "stream",
     "text": [
      "              precision    recall  f1-score   support\n",
      "\n",
      "     class 0       0.38      0.00      0.01      4950\n",
      "     class 1       0.85      1.00      0.92     28050\n",
      "\n",
      "    accuracy                           0.85     33000\n",
      "   macro avg       0.61      0.50      0.46     33000\n",
      "weighted avg       0.78      0.85      0.78     33000\n",
      "\n"
     ]
    }
   ],
   "source": [
    "# https://scikit-learn.org/stable/modules/generated/sklearn.metrics.classification_report.html\n",
    "\n",
    "from sklearn.metrics import classification_report\n",
    "\n",
    "y_pred_new = multnomial_nb.predict(x_test_concat1)\n",
    "target_names = ['class 0', 'class 1']\n",
    "print(classification_report(y_test, y_pred_new, target_names = target_names))"
   ]
  },
  {
   "cell_type": "code",
   "execution_count": 49,
   "metadata": {},
   "outputs": [
    {
     "name": "stdout",
     "output_type": "stream",
     "text": [
      " Accuracy on test dataset: 0.850\n",
      " Precision  on test dataset: 0.850\n",
      " F1 score on test dataset: 0.919\n",
      " Recall score on test dataset: 0.999\n",
      "CPU times: user 213 ms, sys: 321 µs, total: 213 ms\n",
      "Wall time: 211 ms\n"
     ]
    }
   ],
   "source": [
    "%%time\n",
    "## lets find the accuracy , precission , recall and f1 score on test dataset\n",
    "# https://scikit-learn.org/stable/modules/classes.html#module-sklearn.metrics\n",
    "from sklearn.metrics import accuracy_score\n",
    "from sklearn.metrics import confusion_matrix\n",
    "from sklearn.metrics import precision_score\n",
    "from sklearn.metrics import f1_score\n",
    "from sklearn.metrics import recall_score\n",
    "\n",
    "y_pred_new = multnomial_nb.predict(x_test_concat1)\n",
    "\n",
    "test_accuracy = print(' Accuracy on test dataset: %.3f' %accuracy_score(y_test , y_pred_new))\n",
    "test_Precision_score = print(' Precision  on test dataset: %.3f' %precision_score(y_test , y_pred_new))\n",
    "test_f1_score = print(' F1 score on test dataset: %.3f' %f1_score(y_test , y_pred_new))\n",
    "recall_score = print(' Recall score on test dataset: %.3f' %recall_score(y_test , y_pred_new))\n"
   ]
  },
  {
   "cell_type": "code",
   "execution_count": 50,
   "metadata": {},
   "outputs": [
    {
     "name": "stdout",
     "output_type": "stream",
     "text": [
      "Confusion Matrix of Train Dataset: \n",
      "Value of fpr(1-tpr) is  0.8556585032189548 for threshold 0.856\n"
     ]
    },
    {
     "data": {
      "image/png": "[encoded data removed]",
      "text/plain": [
       "<Figure size 432x288 with 2 Axes>"
      ]
     },
     "metadata": {
      "needs_background": "light"
     },
     "output_type": "display_data"
    }
   ],
   "source": [
    "# Plot the confusion matrices(each for train and test data) afer encoding the predicted class labels, on the basis of the best threshod probability estimate.\n",
    "## https://coderzcolumn.com/tutorials/machine-learning/model-evaluation-scoring-metrics-scikit-learn-sklearn\n",
    "from sklearn.metrics import confusion_matrix\n",
    "\n",
    "print(\"Confusion Matrix of Train Dataset: \")\n",
    "\n",
    "##print(confusion_matrix(y_train, find_best_probability(y_train_pred, train_thresholds, train_fpr, train_tpr)))\n",
    "\n",
    "confusion_metric = metrics.confusion_matrix(y_train ,find_best_probability(y_train_pred, train_thresholds, train_fpr, train_tpr))\n",
    "## For heat maphttps://stackoverflow.com/questions/61748441/how-to-fix-the-values-displayed-in-a-confusion-matrix-in-exponential-form-to-nor\n",
    "## If annot is True data value is written inside each cell and cmao is used for colour coordination of the confusion matrix \n",
    "sns.heatmap(confusion_metric , annot=True , fmt='d' , cmap = 'Reds')\n",
    "plt.title('Confusion Matrix')\n",
    "plt.ylabel('Actal Values')\n",
    "plt.xlabel('Predicted Values')\n",
    "plt.show()"
   ]
  },
  {
   "cell_type": "code",
   "execution_count": 51,
   "metadata": {},
   "outputs": [
    {
     "name": "stdout",
     "output_type": "stream",
     "text": [
      "Confusion Matrix of Test Dataset: \n",
      "Value of fpr(1-tpr) is  0.8554437341919807 for threshold 0.855\n"
     ]
    },
    {
     "data": {
      "image/png": "[encoded data removed]",
      "text/plain": [
       "<Figure size 432x288 with 2 Axes>"
      ]
     },
     "metadata": {
      "needs_background": "light"
     },
     "output_type": "display_data"
    }
   ],
   "source": [
    "# Plot the confusion matrices(each for train and test data) afer encoding the predicted class labels, on the basis of the best threshod probability estimate.\n",
    "## https://coderzcolumn.com/tutorials/machine-learning/model-evaluation-scoring-metrics-scikit-learn-sklearn\n",
    "from sklearn.metrics import confusion_matrix\n",
    "\n",
    "print(\"Confusion Matrix of Test Dataset: \")\n",
    "\n",
    "##print(confusion_matrix(y_train, find_best_probability(y_train_pred, train_thresholds, train_fpr, train_tpr)))\n",
    "\n",
    "confusion_metric = metrics.confusion_matrix(y_test ,find_best_probability(y_test_pred, test_thresholds, test_fpr, test_tpr))\n",
    "## Fir heat maphttps://stackoverflow.com/questions/61748441/how-to-fix-the-values-displayed-in-a-confusion-matrix-in-exponential-form-to-nor\n",
    "## If annot is True data value is written inside each cell and cmao is used for colour coordination of the confusion matrix \n",
    "sns.heatmap(confusion_metric , annot=True , fmt='d' , cmap = 'Greens')\n",
    "plt.title('Confusion Matrix')\n",
    "plt.ylabel('Actal Values')\n",
    "plt.xlabel('Predicted Values')\n",
    "plt.show()"
   ]
  },
  {
   "cell_type": "code",
   "execution_count": 52,
   "metadata": {},
   "outputs": [],
   "source": [
    "# Either from set 1 (or) set 2, print the names of the top 20 features associated with the positive and negative classes each. (You have to print the names of the features, but not the indexes)"
   ]
  },
  {
   "cell_type": "markdown",
   "metadata": {},
   "source": [
    "## Top 20 important features of positive and negative class from<font color='red'> SET 1</font>\n"
   ]
  },
  {
   "cell_type": "markdown",
   "metadata": {},
   "source": [
    "### Merging the categorical, numerical and text features names"
   ]
  },
  {
   "cell_type": "code",
   "execution_count": 53,
   "metadata": {},
   "outputs": [
    {
     "name": "stdout",
     "output_type": "stream",
     "text": [
      "Shape of Train and test after stacking \n",
      "(67000, 13894)\n",
      "(33000, 13894)\n"
     ]
    }
   ],
   "source": [
    "# we can concat using : https://stackoverflow.com/a/19710648/4084039\n",
    "\n",
    "from scipy.sparse import hstack\n",
    "\n",
    "x_train_concat = hstack((x_train_bow,x_train_school_state , x_train_teacher_prefix , x_train_clean_categories , x_train_clean_subcategories , x_train_project_grade_category , x_train_price , x_train_teacher_number_of_previously_posted_projects))\n",
    "x_test_concat = hstack((x_test_bow,x_test_school_state , x_test_teacher_prefix , x_test_clean_categories , x_test_clean_subcategories , x_test_project_grade_category , x_test_price , x_test_teacher_number_of_previously_posted_projects))\n",
    "\n",
    "print(\"Shape of Train and test after stacking \")\n",
    "print(x_train_concat.shape)\n",
    "print(x_test_concat.shape)\n"
   ]
  },
  {
   "cell_type": "code",
   "execution_count": 54,
   "metadata": {},
   "outputs": [
    {
     "data": {
      "text/plain": [
       "13894"
      ]
     },
     "execution_count": 54,
     "metadata": {},
     "output_type": "execute_result"
    }
   ],
   "source": [
    "## Creating a list of all the features all together \n",
    "\n",
    "features=[]    ## create a variable features where all the data of features will be stored in form of list  \n",
    "for a in vectorizer_eassy_bow.get_feature_names() : ## This function returns all the features name in a perticular category in a form of list \n",
    "    features.append(a)    # adding the created list to the variable features\n",
    "    \n",
    "for a in vectorizer_school_state.get_feature_names() : ## This function returns all the features name in a perticular category in a form of list \n",
    "    features.append(a)    # adding the created list to the variable features\n",
    "    \n",
    "for a in vectorizer_teacher_prefix.get_feature_names() :   ## This function returns all the features name in a perticular category in a form of list \n",
    "    features.append(a)    # adding the created list to the variable features\n",
    "    \n",
    "for a in vectorizer_project_grade_category.get_feature_names() : ## This function returns all the features name in a perticular category in a form of list \n",
    "    features.append(a)    # adding the created list to the variable features\n",
    "\n",
    "for a in vectorizer_clean_categories.get_feature_names() : ## This function returns all the features name in a perticular category in a form of list \n",
    "    features.append(a)   ## appends / add the object to end of the list , in our case we have lists of feature in a perticular category \n",
    "   \n",
    "    \n",
    "for a in vectorizer_clean_subcategories.get_feature_names() : ## This function returns all the features name in a perticular category in a form of list \n",
    "    features.append(a)   # adding the created list to the variable features\n",
    "    \n",
    "    \n",
    "features.append(\"price\")  ## As we know price is a numerical category which means we dont have to create a list of the feature name \n",
    "##instead we can directly add price to the variable features\n",
    "features.append(\"teacher_number_of_previously_posted_projects\")\n",
    "len(features)"
   ]
  },
  {
   "cell_type": "markdown",
   "metadata": {},
   "source": [
    "## It can be observed that we have total of 13894 features features and now we have to find top 20 features amongst these "
   ]
  },
  {
   "cell_type": "code",
   "execution_count": 55,
   "metadata": {},
   "outputs": [],
   "source": [
    "#https://stackoverflow.com/questions/50526898/how-to-get-feature-importance-in-naive-bayes\n",
    "\n",
    "##here we have created two classes 0 , 1 to find the probability for each class\n",
    "class0 = multnomial_nb.feature_log_prob_[0, :].argsort()   # finding probability and making argsort for each class\n",
    "class1 = multnomial_nb .feature_log_prob_[1, :].argsort()    \n",
    "\n"
   ]
  },
  {
   "cell_type": "code",
   "execution_count": 56,
   "metadata": {},
   "outputs": [
    {
     "name": "stdout",
     "output_type": "stream",
     "text": [
      "Top 20 features of class 0 are :-\n",
      "['financialliteracy' 'math_science' 'mr' 'visualarts' 'grades_3_5'\n",
      " 'history_civics' 'other' 'students' 'grades_9_12' 'ca' 'teamsports'\n",
      " 'health_lifescience' 'health_wellness' 'gym_fitness' 'specialneeds' 'ms'\n",
      " 'care_hunger' 'warmth' 'appliedlearning' 'mrs']\n",
      "\n",
      "\n",
      "Top 20 features of class 1 are :-\n",
      "['financialliteracy' 'math_science' 'mr' 'visualarts' 'grades_3_5'\n",
      " 'history_civics' 'other' 'students' 'grades_9_12' 'ca' 'teamsports'\n",
      " 'health_lifescience' 'health_wellness' 'gym_fitness' 'specialneeds' 'ms'\n",
      " 'care_hunger' 'warmth' 'appliedlearning' 'mrs']\n"
     ]
    }
   ],
   "source": [
    "## Printing Top 20 features of both class 0 and class 1\n",
    " \n",
    "print(\"Top 20 features of class 0 are :-\")\n",
    "print(np.take(features, class1[-20:])) # since argsort is asscending order\n",
    "\n",
    "print(\"\\n\")\n",
    "\n",
    "print(\"Top 20 features of class 1 are :-\")\n",
    "print(np.take(features, class1[-20:])) # since argsort is asscending order"
   ]
  },
  {
   "cell_type": "markdown",
   "metadata": {
    "id": "lS9hIHdib3dp"
   },
   "source": [
    "<h1>3. Summary</h1>\n",
    "\n",
    "<br> as mentioned in the step 5 of instructions"
   ]
  },
  {
   "cell_type": "code",
   "execution_count": 57,
   "metadata": {},
   "outputs": [],
   "source": [
    "#Summarize your assignment work here in a few points, and also compare the final models (from set 1 and set 2), in terms of optimal hyperparameter value 'alpha', training AUC and test AUC scores.\n",
    "# You can either use a pretty table or any other tabular structure.\n",
    "# Reference Link for Pretty table:  https://pypi.org/project/prettytable/"
   ]
  },
  {
   "cell_type": "markdown",
   "metadata": {},
   "source": [
    "## Pretty Table "
   ]
  },
  {
   "cell_type": "code",
   "execution_count": 58,
   "metadata": {},
   "outputs": [
    {
     "name": "stdout",
     "output_type": "stream",
     "text": [
      "+------------+-------+-------------+----------------------------------------+-----------+----------+\n",
      "| Vectorizer |  SET  |    Model    |  Best hyper parsmeter(best value of α) | train-AUC | test-AUC |\n",
      "+------------+-------+-------------+----------------------------------------+-----------+----------+\n",
      "|    BOW     | Set 1 | Naive Bayes |                 α=0.5                  |    0.78   |  0.706   |\n",
      "|   TFIDF    | Set 2 | Naive Bayes |                 α=0.1                  |   0.764   |  0.682   |\n",
      "+------------+-------+-------------+----------------------------------------+-----------+----------+\n"
     ]
    }
   ],
   "source": [
    "## To create pretty table https://zetcode.com/python/prettytable/\n",
    "\n",
    "from prettytable import PrettyTable\n",
    "    \n",
    "x = PrettyTable()\n",
    "\n",
    "x.field_names = [\"Vectorizer\",\"SET\" ,\"Model\", \" Best hyper parsmeter(best value of α)\", \"train-AUC\" ,\"test-AUC\"]\n",
    "\n",
    "x.add_row([\"BOW\",\"Set 1\", \"Naive Bayes\", 'α=0.5' , 0.780 , 0.706])\n",
    "x.add_row([\"TFIDF\",\"Set 2\" ,\"Naive Bayes\", 'α=0.1', 0.764 , 0.682])\n",
    "\n",
    "print(x)"
   ]
  },
  {
   "cell_type": "markdown",
   "metadata": {},
   "source": [
    "1. We can  AUC score for BOW vectorizer is slightly high then  TFIDF vectorizer\n",
    "\n",
    "\n",
    "2. Hyperparameter value for BOW vectorizer is 0.5 whereas for TFIDF is 0.1\n",
    "\n",
    "\n",
    "3. Naive Bayes has better time and space complexity as compared to KNN\n",
    "\n",
    "\n",
    "4. Although we sampaled our data but we can use Naive Bayes for large data also \n",
    "\n",
    "\n",
    "5. When it comes to accuracy scores we can see :\n",
    "    \n",
    "  **For BOW Vectorization**\n",
    "  \n",
    "    Train Accuracy : 0.774\n",
    "    \n",
    "    Test Accuracy : 0.743\n",
    "    \n",
    "    Best Accuracy through Grid Search  0.705\n",
    "    \n",
    "    Best Parameters :  {'alpha': 0.5}\n",
    "    \n",
    "   **For TFIDF vectorization**\n",
    "   \n",
    "    Train Accuracy : 0.751\n",
    "    \n",
    "    Test Accuracy : 0.721\n",
    "    \n",
    "    Best Accuracy through Grid Search  0.677\n",
    "    \n",
    "    Best Parameters :  {'alpha': 0.1}\n",
    "        \n",
    "   ***We can see BOW vectorization has slightly high train and test     accuracy values as compared to TFIDF vectorization***\n",
    "    \n",
    "    \n",
    "6. Accuracy precision , recall values for BOW vectorizer and TFIDF vectorizer :\n",
    "    \n",
    "  **For BOW vectorizer**\n",
    "  \n",
    "    Accuracy on test dataset: 0.743\n",
    "    \n",
    "    Precision  on test dataset: 0.900\n",
    "    \n",
    "    F1 score on test dataset: 0.839\n",
    "    \n",
    "    Recall score on test dataset: 0.786\n",
    "       \n",
    "   **For TFIDF vectorizer**\n",
    "   \n",
    "    Accuracy on test dataset: 0.850\n",
    "    \n",
    "    Precision  on test dataset: 0.850\n",
    "    \n",
    "    F1 score on test dataset: 0.919\n",
    "    \n",
    "    Recall score on test dataset: 0.999\n",
    "  \n",
    " ***Here we can see Accuracy precision , recall and f1 score of TFIDF vectorizer is more then that of BOW vectorizer***"
   ]
  },
  {
   "cell_type": "code",
   "execution_count": null,
   "metadata": {},
   "outputs": [],
   "source": []
  }
 ],
 "metadata": {
  "colab": {
   "collapsed_sections": [],
   "name": "6_Assignment_NB_Instructions.ipynb",
   "provenance": []
  },
  "kernelspec": {
   "display_name": "Python 3 (ipykernel)",
   "language": "python",
   "name": "python3"
  },
  "language_info": {
   "codemirror_mode": {
    "name": "ipython",
    "version": 3
   },
   "file_extension": ".py",
   "mimetype": "text/x-python",
   "name": "python",
   "nbconvert_exporter": "python",
   "pygments_lexer": "ipython3",
   "version": "3.8.15"
  }
 },
 "nbformat": 4,
 "nbformat_minor": 1
}
